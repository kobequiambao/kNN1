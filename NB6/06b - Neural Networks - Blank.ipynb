{
 "cells": [
  {
   "cell_type": "markdown",
   "metadata": {},
   "source": [
    "# Neural Networks Exercise\n",
    "\n",
    "In this notebook, we will extend our `SGDClassifier` into a 2-layer neural network to train on a multinomial dataset.\n",
    "\n",
    "**Note: there is a jump from how scikit and PyTorch train their models.** It might be helpful to think that PyTorch sets the design of the computation graph first, then starts a session to \"feed\" the data for training.\n"
   ]
  },
  {
   "cell_type": "markdown",
   "metadata": {},
   "source": [
    "## Instructions for All Labs\n",
    "* Read each cell and implement the TODOs sequentially. The markdown/text cells also contain instructions which you need to follow to get the whole notebook working.\n",
    "* Do not change the variable names unless the instructor allows you to.\n",
    "* Some markdown cells contain questions.\n",
    "  * For questions <span style=\"color:red;\">colored in red</span>, you must submit your answers in the corresponding Assignment in the course page. Make sure that you enter your responses in the item with the matching question code. Answers that do not follow the prescribed format will automatically be marked wrong by the checker.\n",
    "  * For questions <span style=\"color:green;\">colored in green</span>, you don't have to submit your answers, but you must think about these questions as they will help enrich your understanding of the concepts covered in the labs.\n",
    "* You are expected to search how to some functions work on the Internet or via the docs. \n",
    "* You may add new cells for \"scrap work\".\n",
    "* The notebooks will undergo a \"Restart and Run All\" command, so make sure that your code is working properly.\n",
    "* You may not reproduce this notebook or share them to anyone."
   ]
  },
  {
   "cell_type": "markdown",
   "metadata": {},
   "source": [
    "## Import\n",
    "Import **matplotlib**, **csv**, **numpy**, and **torch**."
   ]
  },
  {
   "cell_type": "code",
   "execution_count": 1,
   "metadata": {},
   "outputs": [],
   "source": [
    "from sklearn.model_selection import train_test_split\n",
    "import matplotlib.pyplot as plt\n",
    "import torch.optim as optim\n",
    "import torch.nn as nn\n",
    "import numpy as np\n",
    "import torch\n",
    "import csv\n",
    "import math\n",
    "\n",
    "%matplotlib inline\n",
    "\n",
    "# set default size of plots\n",
    "plt.rcParams['figure.figsize'] = (8.0, 8.0)\n",
    "plt.rcParams['image.interpolation'] = 'nearest'\n",
    "\n",
    "torch.manual_seed(0)\n",
    "\n",
    "\n",
    "%load_ext autoreload\n",
    "%autoreload 2"
   ]
  },
  {
   "cell_type": "markdown",
   "metadata": {},
   "source": [
    "# Synthetic Dataset\n",
    "\n",
    "Let's use the `make_blobs()` function to create a dataset with 1650 instances centered in (-6, 0), (0, 0), and (-3, -5)."
   ]
  },
  {
   "cell_type": "code",
   "execution_count": 2,
   "metadata": {},
   "outputs": [],
   "source": [
    "from sklearn.datasets import make_blobs\n",
    "\n",
    "centers = [[-6, 0], [0, 0], [-3, -5]]\n",
    "\n",
    "X, y = make_blobs(n_samples=1650, \n",
    "                  centers=centers, \n",
    "                  random_state=5)"
   ]
  },
  {
   "cell_type": "markdown",
   "metadata": {},
   "source": [
    "Let's get the number of instances per class. Below are our classes and their corresponding colors in the graph later.\n",
    "- class `0`, violet\n",
    "- class `1`, turquoise\n",
    "- class `2`, yellow"
   ]
  },
  {
   "cell_type": "code",
   "execution_count": 3,
   "metadata": {},
   "outputs": [
    {
     "name": "stdout",
     "output_type": "stream",
     "text": [
      "Number of class 0: 550\n",
      "Number of class 1: 550\n",
      "Number of class 2: 550\n"
     ]
    }
   ],
   "source": [
    "X_0 = X[y == 0]\n",
    "X_1 = X[y == 1]\n",
    "X_2 = X[y == 2]\n",
    "\n",
    "print('Number of class 0:', len(X_0))\n",
    "print('Number of class 1:', len(X_1))\n",
    "print('Number of class 2:', len(X_2))"
   ]
  },
  {
   "cell_type": "markdown",
   "metadata": {},
   "source": [
    "There are 550 instances for each class."
   ]
  },
  {
   "cell_type": "markdown",
   "metadata": {},
   "source": [
    "Let's divide the dataset into train and test set. The test set will contain 50 instances for each class."
   ]
  },
  {
   "cell_type": "code",
   "execution_count": 4,
   "metadata": {},
   "outputs": [
    {
     "name": "stdout",
     "output_type": "stream",
     "text": [
      "(150, 2)\n",
      "(150,)\n"
     ]
    }
   ],
   "source": [
    "np.random.seed(10)\n",
    "\n",
    "# Select 50 `class 0` instances\n",
    "selected_0 = np.random.choice(np.arange(len(X_0)),\n",
    "                              size=50,\n",
    "                              replace=False)\n",
    "\n",
    "# Select 50 `class 1` instances\n",
    "selected_1 = np.random.choice(np.arange(len(X_1)),\n",
    "                              size=50,\n",
    "                              replace=False)\n",
    "\n",
    "# Select 50 `class 2` instances\n",
    "selected_2 = np.random.choice(np.arange(len(X_2)),\n",
    "                              size=50,\n",
    "                              replace=False)\n",
    "\n",
    "# Form the test set\n",
    "X_test = np.concatenate((X_0[selected_0],\n",
    "                         X_1[selected_1],\n",
    "                         X_2[selected_2]))\n",
    "y_test = np.concatenate((np.array([0 for _ in range(50)]),\n",
    "                         np.array([1 for _ in range(50)]),\n",
    "                         np.array([2 for _ in range(50)])))\n",
    "\n",
    "print(X_test.shape)\n",
    "print(y_test.shape)"
   ]
  },
  {
   "cell_type": "markdown",
   "metadata": {},
   "source": [
    "The remaining 1500 instances will be a part of the train set, where each class has 500 instances."
   ]
  },
  {
   "cell_type": "code",
   "execution_count": 5,
   "metadata": {},
   "outputs": [
    {
     "name": "stdout",
     "output_type": "stream",
     "text": [
      "(1500, 2)\n",
      "(1500,)\n"
     ]
    }
   ],
   "source": [
    "X_train = np.concatenate((np.delete(X_0, selected_0, 0),\n",
    "                          np.delete(X_1, selected_1, 0),\n",
    "                          np.delete(X_2, selected_2, 0)))\n",
    "y_train = np.concatenate((np.array([0 for _ in range(500)]),\n",
    "                          np.array([1 for _ in range(500)]),\n",
    "                          np.array([2 for _ in range(500)])))\n",
    "\n",
    "print(X_train.shape)\n",
    "print(y_train.shape)"
   ]
  },
  {
   "cell_type": "markdown",
   "metadata": {},
   "source": [
    "Visualize the train data."
   ]
  },
  {
   "cell_type": "code",
   "execution_count": 6,
   "metadata": {},
   "outputs": [
    {
     "data": {
      "text/plain": [
       "Text(0.5, 1.0, 'Train data')"
      ]
     },
     "execution_count": 6,
     "metadata": {},
     "output_type": "execute_result"
    },
    {
     "data": {
      "image/png": "[encoded data removed]",
      "text/plain": [
       "<Figure size 800x800 with 1 Axes>"
      ]
     },
     "metadata": {},
     "output_type": "display_data"
    }
   ],
   "source": [
    "plt.scatter(X_train[:, 0], X_train[:, 1], c=y_train)\n",
    "plt.title('Train data')"
   ]
  },
  {
   "cell_type": "markdown",
   "metadata": {},
   "source": [
    "Visualize the test data."
   ]
  },
  {
   "cell_type": "code",
   "execution_count": 7,
   "metadata": {},
   "outputs": [
    {
     "data": {
      "text/plain": [
       "Text(0.5, 1.0, 'Test data')"
      ]
     },
     "execution_count": 7,
     "metadata": {},
     "output_type": "execute_result"
    },
    {
     "data": {
      "image/png": "[encoded data removed]",
      "text/plain": [
       "<Figure size 800x800 with 1 Axes>"
      ]
     },
     "metadata": {},
     "output_type": "display_data"
    }
   ],
   "source": [
    "plt.scatter(X_test[:, 0], X_test[:, 1], c=y_test)\n",
    "plt.title('Test data')"
   ]
  },
  {
   "cell_type": "markdown",
   "metadata": {},
   "source": [
    "**Sanity check:** You should have a similar graph like our training data, but now with fewer points. The colors should appear in the same area, too."
   ]
  },
  {
   "cell_type": "markdown",
   "metadata": {},
   "source": [
    "Convert the `np.ndarray` arrays to `torch.Tensor`. We use `torch.Tensor` in PyTorch."
   ]
  },
  {
   "cell_type": "markdown",
   "metadata": {},
   "source": [
    "Convert the variable `X_train` to the datatype `torch.Tensor` and assign the return value to variable `X_train`."
   ]
  },
  {
   "cell_type": "code",
   "execution_count": 8,
   "metadata": {},
   "outputs": [],
   "source": [
    "# Write your code here\n",
    "X_train = torch.Tensor(X_train)"
   ]
  },
  {
   "cell_type": "markdown",
   "metadata": {},
   "source": [
    "Convert the variable `y_train` to the datatype `torch.Tensor` and assign the return value to variable `y_train`."
   ]
  },
  {
   "cell_type": "code",
   "execution_count": 9,
   "metadata": {},
   "outputs": [],
   "source": [
    "# Write your code here\n",
    "y_train = torch.Tensor(y_train)"
   ]
  },
  {
   "cell_type": "markdown",
   "metadata": {},
   "source": [
    "Convert the variable `X_test` to the datatype `torch.Tensor` and assign the return value to variable `X_test`."
   ]
  },
  {
   "cell_type": "code",
   "execution_count": 10,
   "metadata": {},
   "outputs": [],
   "source": [
    "# Write your code here\n",
    "X_test = torch.Tensor(X_test)"
   ]
  },
  {
   "cell_type": "markdown",
   "metadata": {},
   "source": [
    "Convert the variable `y_test` to the datatype `torch.Tensor` and assign the return value to variable `y_test`."
   ]
  },
  {
   "cell_type": "code",
   "execution_count": 11,
   "metadata": {},
   "outputs": [],
   "source": [
    "# Write your code here\n",
    "y_test = torch.Tensor(y_test)"
   ]
  },
  {
   "cell_type": "markdown",
   "metadata": {},
   "source": [
    "This is the data which we will feed into our neural network model."
   ]
  },
  {
   "cell_type": "markdown",
   "metadata": {},
   "source": [
    "# Neural Network\n",
    "\n",
    "We will follow the pseudocode below:\n",
    "\n",
    "\n",
    "1. Set up the size of our network.\n",
    "2. Initialize weights variables.\n",
    "\n",
    "start loop\n",
    "3. Do forward propagation.\n",
    "4. Get the predictions.\n",
    "5. Calculate for the loss.\n",
    "6. Do backward propagation to update/optimize the weight variables.\n",
    "\n",
    "end loop\n",
    "\n",
    "Open `neural_network.py` file. Some of the functions in the `NeuralNetwork` class are not yet implemented. We will implement the missing parts of this class."
   ]
  },
  {
   "cell_type": "markdown",
   "metadata": {},
   "source": [
    "Import the `NeuralNetwork` class."
   ]
  },
  {
   "cell_type": "code",
   "execution_count": 12,
   "metadata": {},
   "outputs": [],
   "source": [
    "from neural_network import NeuralNetwork"
   ]
  },
  {
   "cell_type": "markdown",
   "metadata": {},
   "source": [
    "## Step 1. Setting up the size of the network\n",
    "\n",
    "Instantiate a `NeuralNetwork` object. Set the following parameters:\n",
    "- `list_hidden` = (5, 10)\n",
    "- `activation` = `sigmoid`\n",
    "\n",
    "Here, we are creating a Neural Network with two hidden layers, where there are 5 units in the first layer and 10 units in the second layer.\n",
    "\n",
    "Set the other parameters according to the synthetic dataset that we created earlier."
   ]
  },
  {
   "cell_type": "code",
   "execution_count": 13,
   "metadata": {},
   "outputs": [],
   "source": [
    "from neural_network import NeuralNetwork\n",
    "\n",
    "list_hidden = (5, 10)\n",
    "activation = \"sigmoid\"\n",
    "input_size = X_train.shape[1]\n",
    "num_classes = len(torch.unique(y_train))\n",
    "\n",
    "network = NeuralNetwork(input_size, num_classes, list_hidden, activation)"
   ]
  },
  {
   "cell_type": "markdown",
   "metadata": {},
   "source": [
    "Open `neural_network.py` file and complete the `create_network()` function in the `NeuralNetwork` class. This function creates the layers of the neural network."
   ]
  },
  {
   "cell_type": "markdown",
   "metadata": {},
   "source": [
    "Implement the `create_network()` function  in the `NeuralNetwork` class. Inline comments should help you in completing the contents of the function."
   ]
  },
  {
   "cell_type": "markdown",
   "metadata": {},
   "source": [
    "Create the layers of the neural network by calling the function `create_network()`."
   ]
  },
  {
   "cell_type": "code",
   "execution_count": 14,
   "metadata": {},
   "outputs": [
    {
     "name": "stdout",
     "output_type": "stream",
     "text": [
      "List Hidden: (5, 10)\n"
     ]
    }
   ],
   "source": [
    "network.create_network()\n"
   ]
  },
  {
   "cell_type": "markdown",
   "metadata": {},
   "source": [
    "Display the structure of the neural network."
   ]
  },
  {
   "cell_type": "code",
   "execution_count": 15,
   "metadata": {},
   "outputs": [
    {
     "name": "stdout",
     "output_type": "stream",
     "text": [
      "NeuralNetwork(\n",
      "  (layers): Sequential(\n",
      "    (0): Linear(in_features=2, out_features=5, bias=True)\n",
      "    (1): Sigmoid()\n",
      "    (2): Linear(in_features=5, out_features=10, bias=True)\n",
      "    (3): Sigmoid()\n",
      "    (4): Linear(in_features=10, out_features=3, bias=True)\n",
      "    (5): Softmax(dim=1)\n",
      "  )\n",
      ")\n"
     ]
    }
   ],
   "source": [
    "print(network)"
   ]
  },
  {
   "cell_type": "markdown",
   "metadata": {},
   "source": [
    "<span style=\"color:red;\">**Question 6-2:** Give the values of the `in_features` and `out_features` of the first `nn.Linear` module (Index 0).</span>"
   ]
  },
  {
   "cell_type": "markdown",
   "metadata": {},
   "source": [
    "<span style=\"color:red;\">**Question 6-3:** Give the values of the `in_features` and `out_features` of the last `nn.Linear` module (Index 4).</span>"
   ]
  },
  {
   "cell_type": "markdown",
   "metadata": {},
   "source": [
    "<span style=\"color:red;\">**Question 6-4:** Give the total number of parameters of the model.</span>"
   ]
  },
  {
   "cell_type": "markdown",
   "metadata": {},
   "source": [
    "## Step 2. Initializing the model weights\n",
    "\n",
    "Open `neural_network.py` file and complete the `init_weights()` function in the `NeuralNetwork` class. This function initializes the weight of the network. Weights of a `nn.Linear` layer should be initialized from a normal distribution with mean `0` and standard deviation `0.1`. Bias terms of a `nn.Linear` layer should be initialized with a constant value of `0`."
   ]
  },
  {
   "cell_type": "markdown",
   "metadata": {},
   "source": [
    "Implement the `init_weights()` function  in the `NeuralNetwork` class. Inline comments should help you in completing the contents of the function."
   ]
  },
  {
   "cell_type": "markdown",
   "metadata": {},
   "source": [
    "Initialize the weights of the neural network by calling the function `init_weights()`."
   ]
  },
  {
   "cell_type": "code",
   "execution_count": 16,
   "metadata": {},
   "outputs": [],
   "source": [
    "# Write your code here\n",
    "network.init_weights()"
   ]
  },
  {
   "cell_type": "markdown",
   "metadata": {},
   "source": [
    "Display the weight of the 1st `nn.Linear` layer in the network."
   ]
  },
  {
   "cell_type": "code",
   "execution_count": 17,
   "metadata": {},
   "outputs": [
    {
     "name": "stdout",
     "output_type": "stream",
     "text": [
      "Parameter containing:\n",
      "tensor([[ 0.0392, -0.0224],\n",
      "        [-0.0320, -0.1205],\n",
      "        [ 0.1044, -0.0633],\n",
      "        [ 0.0573,  0.0541],\n",
      "        [-0.0392, -0.1043]], requires_grad=True)\n"
     ]
    }
   ],
   "source": [
    "print(network.layers[0].weight)"
   ]
  },
  {
   "cell_type": "markdown",
   "metadata": {},
   "source": [
    "**Sanity check:** The output of the previous cell should look like:\n",
    "\n",
    "```\n",
    "Parameter containing:\n",
    "tensor([[ x.xxxx, x.xxxx],\n",
    "        ...\n",
    "        [ x.xxxx, x.xxxx]], requires_grad=True)```\n",
    "        \n",
    "where `x.xxxx` is some float."
   ]
  },
  {
   "cell_type": "markdown",
   "metadata": {},
   "source": [
    "<span style=\"color:red;\">**Question 6-5:** Give the first value in the first row of the weights of the 1st `nn.Linear` layer in the network. Limit to four decimal places.</span>"
   ]
  },
  {
   "cell_type": "markdown",
   "metadata": {},
   "source": [
    "Display the bias term of the 1st `nn.Linear` layer in the network."
   ]
  },
  {
   "cell_type": "code",
   "execution_count": 18,
   "metadata": {},
   "outputs": [
    {
     "name": "stdout",
     "output_type": "stream",
     "text": [
      "Parameter containing:\n",
      "tensor([0., 0., 0., 0., 0.], requires_grad=True)\n"
     ]
    }
   ],
   "source": [
    "print(network.layers[0].bias)"
   ]
  },
  {
   "cell_type": "markdown",
   "metadata": {},
   "source": [
    "**Sanity check:** The output of the previous cell should be:\n",
    "\n",
    "```\n",
    "Parameter containing:\n",
    "tensor([0., 0., 0., 0., 0.], requires_grad=True)```"
   ]
  },
  {
   "cell_type": "markdown",
   "metadata": {},
   "source": [
    "Display the weight of the 2nd `nn.Linear` layer in the network."
   ]
  },
  {
   "cell_type": "code",
   "execution_count": 19,
   "metadata": {
    "scrolled": true
   },
   "outputs": [
    {
     "name": "stdout",
     "output_type": "stream",
     "text": [
      "Parameter containing:\n",
      "tensor([[ 0.0030, -0.0050,  0.1065,  0.0886, -0.0811],\n",
      "        [ 0.0674, -0.1123, -0.0092,  0.0140,  0.1119],\n",
      "        [ 0.0315,  0.1753, -0.0740, -0.1242, -0.0175],\n",
      "        [ 0.0699, -0.1294, -0.0024, -0.0235, -0.0709],\n",
      "        [-0.0866, -0.0266,  0.0167,  0.0791, -0.0932],\n",
      "        [-0.0858, -0.0965, -0.0099, -0.0299, -0.0065],\n",
      "        [-0.1572, -0.1321,  0.0045,  0.1585, -0.0236],\n",
      "        [ 0.0944,  0.0546, -0.1358,  0.1145, -0.0965],\n",
      "        [-0.0259, -0.0042,  0.0189,  0.2143, -0.0278],\n",
      "        [ 0.0551,  0.0015, -0.0918, -0.1234,  0.0254]], requires_grad=True)\n"
     ]
    }
   ],
   "source": [
    "# Write your code here\n",
    "print(network.layers[2].weight)\n"
   ]
  },
  {
   "cell_type": "markdown",
   "metadata": {},
   "source": [
    "<span style=\"color:red;\">**Question 6-6:** Give the last value in the last row of the weights of the 2nd `nn.Linear` layer in the network. Limit to four decimal places.</span>"
   ]
  },
  {
   "cell_type": "markdown",
   "metadata": {},
   "source": [
    "Display the bias term of the 2nd `nn.Linear` layer in the network."
   ]
  },
  {
   "cell_type": "code",
   "execution_count": 20,
   "metadata": {},
   "outputs": [
    {
     "name": "stdout",
     "output_type": "stream",
     "text": [
      "Parameter containing:\n",
      "tensor([0., 0., 0., 0., 0., 0., 0., 0., 0., 0.], requires_grad=True)\n"
     ]
    }
   ],
   "source": [
    "# Write your code here\n",
    "print(network.layers[2].bias)"
   ]
  },
  {
   "cell_type": "markdown",
   "metadata": {},
   "source": [
    "Display the weight of the 3rd `nn.Linear` layer in the network."
   ]
  },
  {
   "cell_type": "code",
   "execution_count": 21,
   "metadata": {},
   "outputs": [
    {
     "name": "stdout",
     "output_type": "stream",
     "text": [
      "Parameter containing:\n",
      "tensor([[ 0.0334,  0.0176,  0.0486,  0.0277,  0.0599, -0.0302, -0.0745, -0.1091,\n",
      "         -0.1047, -0.1577],\n",
      "        [ 0.0427,  0.0679,  0.0918,  0.0481,  0.0506,  0.1519, -0.0490,  0.0923,\n",
      "          0.1998,  0.1483],\n",
      "        [ 0.0195, -0.1137, -0.0924,  0.1874,  0.1012, -0.1448,  0.0176,  0.0606,\n",
      "          0.0311, -0.1692]], requires_grad=True)\n"
     ]
    }
   ],
   "source": [
    "# Write your code here\n",
    "print(network.layers[4].weight)"
   ]
  },
  {
   "cell_type": "markdown",
   "metadata": {},
   "source": [
    "<span style=\"color:red;\">**Question 6-7:** Give the first value in the first row of the weights of the 3rd `nn.Linear` layer in the network. Limit to four decimal places.</span>"
   ]
  },
  {
   "cell_type": "markdown",
   "metadata": {},
   "source": [
    "Display the bias term of the 3rd `nn.Linear` layer in the network."
   ]
  },
  {
   "cell_type": "code",
   "execution_count": 22,
   "metadata": {
    "scrolled": true
   },
   "outputs": [
    {
     "name": "stdout",
     "output_type": "stream",
     "text": [
      "Parameter containing:\n",
      "tensor([0., 0., 0.], requires_grad=True)\n"
     ]
    }
   ],
   "source": [
    "# Write your code here\n",
    "print(network.layers[4].bias)"
   ]
  },
  {
   "cell_type": "markdown",
   "metadata": {},
   "source": [
    "## Step 3. Forward propagation\n",
    "\n",
    "Forward propagation computes the output of each layer in the neural network. \n",
    "\n",
    "Open `neural_network.py` file and complete the `forward_manual()` function in the `NeuralNetwork` class. This function performs the forward propagation of the model, implemented manually. You have to manually implement the computation of the output of each linear layer in the network."
   ]
  },
  {
   "cell_type": "markdown",
   "metadata": {},
   "source": [
    "Implement the `forward_manual()` function  in the `NeuralNetwork` class. Inline comments should help you in completing the contents of the function."
   ]
  },
  {
   "cell_type": "markdown",
   "metadata": {},
   "source": [
    "Perform forward propagation in the model by calling the function `forward_manual`. Pass the training instance in index `0`. Set `verbose=True`. Assign the return values to variables `scores` and `probabilities.`\n",
    "\n",
    "The function should display the output of the model for in each layer."
   ]
  },
  {
   "cell_type": "code",
   "execution_count": 23,
   "metadata": {},
   "outputs": [
    {
     "name": "stdout",
     "output_type": "stream",
     "text": [
      "Output of layer 0:\n",
      "tensor([[-0.3000,  0.1435, -0.8014, -0.3752,  0.2076]], grad_fn=<AddBackward0>) \n",
      "\n",
      "Output of layer 1:\n",
      "tensor([[0.4256, 0.5358, 0.3097, 0.4073, 0.5517]], grad_fn=<SigmoidBackward0>) \n",
      "\n",
      "Output of layer 2:\n",
      "tensor([[ 0.0229,  0.0331,  0.0242, -0.0891, -0.0651, -0.1070, -0.0847,  0.0208,\n",
      "          0.0645, -0.0404]], grad_fn=<AddBackward0>) \n",
      "\n",
      "Output of layer 3:\n",
      "tensor([[0.5057, 0.5083, 0.5060, 0.4778, 0.4837, 0.4733, 0.4788, 0.5052, 0.5161,\n",
      "         0.4899]], grad_fn=<SigmoidBackward0>) \n",
      "\n",
      "Output of layer 4:\n",
      "tensor([[-0.1437,  0.4208, -0.0526]], grad_fn=<AddBackward0>) \n",
      "\n",
      "Output of layer 5:\n",
      "tensor([[0.2595, 0.4563, 0.2842]], grad_fn=<SoftmaxBackward0>) \n",
      "\n"
     ]
    }
   ],
   "source": [
    "# Write your code here\n",
    "scores, probabilities = network.forward_manual(X_train[0].unsqueeze(0), verbose=True)\n"
   ]
  },
  {
   "cell_type": "markdown",
   "metadata": {},
   "source": [
    "**Sanity check:** Let's call the pre-implemented `forward()` function of the model. This function also performs forward propagation, but using the operations defined in Pytorch modules. Thus, the output of our implementation of the `forward_manual()` function should be the same as the output of the `forward()` function below."
   ]
  },
  {
   "cell_type": "code",
   "execution_count": 24,
   "metadata": {},
   "outputs": [
    {
     "name": "stdout",
     "output_type": "stream",
     "text": [
      "Output of layer 0\n",
      "tensor([[-0.3000,  0.1435, -0.8014, -0.3752,  0.2076]],\n",
      "       grad_fn=<AddmmBackward0>) \n",
      "\n",
      "Output of layer 1\n",
      "tensor([[0.4256, 0.5358, 0.3097, 0.4073, 0.5517]], grad_fn=<SigmoidBackward0>) \n",
      "\n",
      "Output of layer 2\n",
      "tensor([[ 0.0229,  0.0331,  0.0242, -0.0891, -0.0651, -0.1070, -0.0847,  0.0208,\n",
      "          0.0645, -0.0404]], grad_fn=<AddmmBackward0>) \n",
      "\n",
      "Output of layer 3\n",
      "tensor([[0.5057, 0.5083, 0.5060, 0.4778, 0.4837, 0.4733, 0.4788, 0.5052, 0.5161,\n",
      "         0.4899]], grad_fn=<SigmoidBackward0>) \n",
      "\n",
      "Output of layer 4\n",
      "tensor([[-0.1437,  0.4208, -0.0526]], grad_fn=<AddmmBackward0>) \n",
      "\n",
      "Output of layer 5\n",
      "tensor([[0.2595, 0.4563, 0.2842]], grad_fn=<SoftmaxBackward0>) \n",
      "\n"
     ]
    }
   ],
   "source": [
    "# Write your code here\n",
    "scores_torch, probabilities_torch = network.forward(X_train[0].unsqueeze(0), verbose=True)\n"
   ]
  },
  {
   "cell_type": "markdown",
   "metadata": {},
   "source": [
    "<span style=\"color:red;\">**Question 6-8:** What is the sum of the output of the last layer of the network? Limit to four decimal places.</span>"
   ]
  },
  {
   "cell_type": "markdown",
   "metadata": {},
   "source": [
    "<span style=\"color:red;\">**Question 6-9:** Why did we get the sum?</span>"
   ]
  },
  {
   "cell_type": "markdown",
   "metadata": {},
   "source": [
    "## Step 4. Getting the predictions\n",
    "\n",
    "Since this is a multinomial classification problem, the predicted class corresponds to the class with the highest probability.\n",
    "\n",
    "Open `neural_network.py` file and complete the `predict()` function in the `NeuralNetwork` class. This function returns the index of the class with the highest probability."
   ]
  },
  {
   "cell_type": "markdown",
   "metadata": {},
   "source": [
    "Implement the `predict()` function  in the `NeuralNetwork` class. Inline comments should help you in completing the contents of the function."
   ]
  },
  {
   "cell_type": "markdown",
   "metadata": {},
   "source": [
    "Get 10 random training instances in the dataset."
   ]
  },
  {
   "cell_type": "code",
   "execution_count": 25,
   "metadata": {
    "scrolled": true
   },
   "outputs": [
    {
     "name": "stdout",
     "output_type": "stream",
     "text": [
      "Random indices:  [1289 1149  527 1344 1393 1147 1180  733 1032 1097]\n"
     ]
    }
   ],
   "source": [
    "np.random.seed(10)\n",
    "random_indices = np.random.randint(X_train.shape[0], \n",
    "                                   size=10)\n",
    "print('Random indices: ', random_indices)"
   ]
  },
  {
   "cell_type": "markdown",
   "metadata": {},
   "source": [
    "Compute the scores and probabilities of the random training instances by calling the function `forward()`. Assign the return values to variables `scores` and `probabilities`."
   ]
  },
  {
   "cell_type": "code",
   "execution_count": 26,
   "metadata": {},
   "outputs": [],
   "source": [
    "# Write your code here\n",
    "scores, probabilities = network.forward(X_train[random_indices])\n"
   ]
  },
  {
   "cell_type": "markdown",
   "metadata": {},
   "source": [
    "Print the raw scores of random instances in the dataset."
   ]
  },
  {
   "cell_type": "code",
   "execution_count": 27,
   "metadata": {},
   "outputs": [
    {
     "name": "stdout",
     "output_type": "stream",
     "text": [
      "Raw scores of random instances:\n",
      "tensor([[-0.1422,  0.4195, -0.0527],\n",
      "        [-0.1423,  0.4196, -0.0529],\n",
      "        [-0.1434,  0.4207, -0.0495],\n",
      "        [-0.1420,  0.4193, -0.0534],\n",
      "        [-0.1417,  0.4189, -0.0538],\n",
      "        [-0.1422,  0.4194, -0.0539],\n",
      "        [-0.1420,  0.4193, -0.0535],\n",
      "        [-0.1432,  0.4207, -0.0491],\n",
      "        [-0.1418,  0.4190, -0.0543],\n",
      "        [-0.1423,  0.4195, -0.0527]], grad_fn=<AddmmBackward0>)\n"
     ]
    }
   ],
   "source": [
    "# Write your code here\n",
    "print(\"Raw scores of random instances:\")\n",
    "print(scores)"
   ]
  },
  {
   "cell_type": "markdown",
   "metadata": {},
   "source": [
    "Print the probabilities of random instances in the dataset."
   ]
  },
  {
   "cell_type": "code",
   "execution_count": 28,
   "metadata": {},
   "outputs": [
    {
     "name": "stdout",
     "output_type": "stream",
     "text": [
      "\n",
      "Probabilities of random instances:\n",
      "tensor([[0.2599, 0.4558, 0.2843],\n",
      "        [0.2599, 0.4559, 0.2842],\n",
      "        [0.2593, 0.4558, 0.2848],\n",
      "        [0.2600, 0.4558, 0.2841],\n",
      "        [0.2602, 0.4558, 0.2841],\n",
      "        [0.2600, 0.4559, 0.2840],\n",
      "        [0.2600, 0.4558, 0.2841],\n",
      "        [0.2593, 0.4558, 0.2849],\n",
      "        [0.2602, 0.4559, 0.2840],\n",
      "        [0.2599, 0.4558, 0.2843]], grad_fn=<SoftmaxBackward0>)\n"
     ]
    }
   ],
   "source": [
    "# Write your code here\n",
    "print(\"\\nProbabilities of random instances:\")\n",
    "print(probabilities)"
   ]
  },
  {
   "cell_type": "markdown",
   "metadata": {},
   "source": [
    "Get the predicted class by calling the function `predict()`. Store the predicted labels in the variable `predictions`."
   ]
  },
  {
   "cell_type": "code",
   "execution_count": 29,
   "metadata": {},
   "outputs": [],
   "source": [
    "# Write your code here\n",
    "predictions = network.predict(probabilities)\n"
   ]
  },
  {
   "cell_type": "code",
   "execution_count": 30,
   "metadata": {},
   "outputs": [
    {
     "name": "stdout",
     "output_type": "stream",
     "text": [
      "Predicted class labels:\n",
      "tensor([1, 1, 1, 1, 1, 1, 1, 1, 1, 1])\n"
     ]
    }
   ],
   "source": [
    "print(\"Predicted class labels:\")\n",
    "print(predictions)"
   ]
  },
  {
   "cell_type": "markdown",
   "metadata": {},
   "source": [
    "**Sanity Check:** All selected training examples are currently being classified under one class."
   ]
  },
  {
   "cell_type": "markdown",
   "metadata": {},
   "source": [
    "<span style=\"color:red;\">**Question 6-10:** Obviously, the predicted class received the highest probability among the other classes. Why are all selected training examples being classified under one class?</span>"
   ]
  },
  {
   "cell_type": "markdown",
   "metadata": {},
   "source": [
    "## Step 5. Calculating the loss\n",
    "\n",
    "Since this is a multinomial classification problem, we need to use cross entropy loss.\n",
    "\n",
    "In PyTorch, we can use `nn.CrossEntropyLoss()` to calculate the cross entropy loss between the raw score output of the model and the target class. You may read the documentation [here](https://pytorch.org/docs/stable/generated/torch.nn.CrossEntropyLoss.html#torch.nn.CrossEntropyLoss)."
   ]
  },
  {
   "cell_type": "markdown",
   "metadata": {},
   "source": [
    "Instantiate a `nn.CrossEntropy()` object. Do not change any default values set as parameter. Assign it to the variable `criterion`."
   ]
  },
  {
   "cell_type": "code",
   "execution_count": 31,
   "metadata": {},
   "outputs": [],
   "source": [
    "# Write your code here\n",
    "criterion = nn.CrossEntropyLoss()"
   ]
  },
  {
   "cell_type": "markdown",
   "metadata": {},
   "source": [
    "Get the target classes of the random training examples from the previous step. Convert the `torch.Tensor` to `torch.long`. This is because `nn.CrossEntropyLoss()` expects the target classes to be represented as a `long` and not `float`. Assign the return value to variable `target_classes`."
   ]
  },
  {
   "cell_type": "code",
   "execution_count": 32,
   "metadata": {},
   "outputs": [
    {
     "name": "stderr",
     "output_type": "stream",
     "text": [
      "C:\\Users\\kobeq\\AppData\\Local\\Temp\\ipykernel_1724\\3436215614.py:2: UserWarning: To copy construct from a tensor, it is recommended to use sourceTensor.clone().detach() or sourceTensor.clone().detach().requires_grad_(True), rather than torch.tensor(sourceTensor).\n",
      "  target_classes = torch.tensor(y_train[random_indices], dtype=torch.long)\n"
     ]
    }
   ],
   "source": [
    "# Write your code here\n",
    "target_classes = torch.tensor(y_train[random_indices], dtype=torch.long)"
   ]
  },
  {
   "cell_type": "markdown",
   "metadata": {},
   "source": [
    "Compute the loss and assign the return value to variable `loss`.\n",
    "\n",
    "To note, the loss function accepts the score output of the model, not the probabilities. Read the documentation to understand values to pass for the `input` and the `target` parameters."
   ]
  },
  {
   "cell_type": "code",
   "execution_count": 33,
   "metadata": {},
   "outputs": [],
   "source": [
    "# Write your code here\n",
    "loss = criterion(scores, target_classes)"
   ]
  },
  {
   "cell_type": "markdown",
   "metadata": {},
   "source": [
    "Print the loss."
   ]
  },
  {
   "cell_type": "code",
   "execution_count": 34,
   "metadata": {},
   "outputs": [
    {
     "name": "stdout",
     "output_type": "stream",
     "text": [
      "Loss: 1.1638\n"
     ]
    }
   ],
   "source": [
    "print('Loss: {:.4f}'.format(loss.item()))"
   ]
  },
  {
   "cell_type": "markdown",
   "metadata": {},
   "source": [
    "<span style=\"color:red;\">**Question 6-11:** What is the loss in this scenario? Limit to 4 decimal places.</span>"
   ]
  },
  {
   "cell_type": "markdown",
   "metadata": {},
   "source": [
    "## Step 6: Backward propagation for optimizing weights\n",
    "\n",
    "The next step would be to perform backward propagation to update the weights of the model. This will make the model better in classifying the input data. In PyTorch, we can call `backward()` function of the loss module to perform backward propagation. We also need to instantiate an optimizer to update the weights.\n",
    "\n",
    "Read this [documentation](https://pytorch.org/docs/stable/optim.html#taking-an-optimization-step) to learn the general pseudocode for updating weights in PyTorch."
   ]
  },
  {
   "cell_type": "markdown",
   "metadata": {},
   "source": [
    "We will use Adam as our optimizer.\n",
    "\n",
    "Instantiate an `optim.Adam` object. Set the following parameters:\n",
    "- `params` = Set this to the parameters of your network\n",
    "- `lr` = `0.001`"
   ]
  },
  {
   "cell_type": "code",
   "execution_count": 35,
   "metadata": {},
   "outputs": [],
   "source": [
    "# Write your code here\n",
    "optimizer = optim.Adam(network.parameters(), lr=0.001)"
   ]
  },
  {
   "cell_type": "markdown",
   "metadata": {},
   "source": [
    "Empty the gradients of the network."
   ]
  },
  {
   "cell_type": "code",
   "execution_count": 36,
   "metadata": {},
   "outputs": [],
   "source": [
    "# Write your code here\n",
    "optimizer.zero_grad()"
   ]
  },
  {
   "cell_type": "markdown",
   "metadata": {},
   "source": [
    "Compute the gradients through backward propagation."
   ]
  },
  {
   "cell_type": "code",
   "execution_count": 37,
   "metadata": {
    "scrolled": true
   },
   "outputs": [],
   "source": [
    "# Write your code here\n",
    "loss.backward()"
   ]
  },
  {
   "cell_type": "markdown",
   "metadata": {},
   "source": [
    "Update the weights."
   ]
  },
  {
   "cell_type": "code",
   "execution_count": 38,
   "metadata": {},
   "outputs": [],
   "source": [
    "# Write your code here\n",
    "optimizer.step()"
   ]
  },
  {
   "cell_type": "markdown",
   "metadata": {},
   "source": [
    "Display the weight of the 1st `nn.Linear` layer in the network after updating."
   ]
  },
  {
   "cell_type": "code",
   "execution_count": 39,
   "metadata": {
    "scrolled": true
   },
   "outputs": [
    {
     "name": "stdout",
     "output_type": "stream",
     "text": [
      "Parameter containing:\n",
      "tensor([[ 0.0402, -0.0214],\n",
      "        [-0.0310, -0.1195],\n",
      "        [ 0.1034, -0.0643],\n",
      "        [ 0.0563,  0.0531],\n",
      "        [-0.0382, -0.1033]], requires_grad=True)\n"
     ]
    }
   ],
   "source": [
    "# Write your code here\n",
    "print(network.layers[0].weight)"
   ]
  },
  {
   "cell_type": "markdown",
   "metadata": {},
   "source": [
    "**Sanity check:** The output of the previous cell should be different from the initial set of weights, which is:\n",
    "\n",
    "```\n",
    "Parameter containing:\n",
    "tensor([[ x.xxxx, x.xxxx],\n",
    "        ...\n",
    "        [ x.xxxx, x.xxxx]], requires_grad=True)```\n",
    "        \n",
    "where `x.xxxx` is some float."
   ]
  },
  {
   "cell_type": "markdown",
   "metadata": {},
   "source": [
    "<span style=\"color:red;\">**Question 6-12:** What is the leftmost value in the weight tensor of the 1st `nn.Linear` layer in the network after updating? Limit to 4 decimal places.</span>"
   ]
  },
  {
   "cell_type": "markdown",
   "metadata": {},
   "source": [
    "## Putting all steps together\n",
    "\n",
    "We will train the model using mini-batch gradient descent. \n",
    "\n",
    "Use the `data_loader.py` file that we implemented in the previous notebook. Import the `DataLoader` class."
   ]
  },
  {
   "cell_type": "code",
   "execution_count": 40,
   "metadata": {},
   "outputs": [],
   "source": [
    "from data_loader import DataLoader"
   ]
  },
  {
   "cell_type": "markdown",
   "metadata": {},
   "source": [
    "Instantiate an `DataLoader` object. Pass the `X` and `y` of the train set and `32` as our `batch_size`. Assign it to the variable `data_loader`."
   ]
  },
  {
   "cell_type": "code",
   "execution_count": 41,
   "metadata": {},
   "outputs": [],
   "source": [
    "# Write your code here\n",
    "data_loader = DataLoader(X_train, y_train, batch_size=32)"
   ]
  },
  {
   "cell_type": "markdown",
   "metadata": {},
   "source": [
    "Train your network. Complete the code below."
   ]
  },
  {
   "cell_type": "code",
   "execution_count": 42,
   "metadata": {},
   "outputs": [
    {
     "name": "stdout",
     "output_type": "stream",
     "text": [
      "Epoch: 1 \tLoss: 1.871857\n",
      "Epoch: 2 \tLoss: 1.846745\n",
      "Epoch: 3 \tLoss: 1.839984\n",
      "Epoch: 4 \tLoss: 1.833624\n",
      "Epoch: 5 \tLoss: 1.824633\n",
      "Epoch: 6 \tLoss: 1.812243\n",
      "Epoch: 7 \tLoss: 1.792462\n",
      "Epoch: 8 \tLoss: 1.766554\n",
      "Epoch: 9 \tLoss: 1.730851\n",
      "Epoch: 10 \tLoss: 1.686186\n",
      "Epoch: 11 \tLoss: 1.629144\n",
      "Epoch: 12 \tLoss: 1.559562\n",
      "Epoch: 13 \tLoss: 1.477712\n",
      "Epoch: 14 \tLoss: 1.385541\n",
      "Epoch: 15 \tLoss: 1.283884\n",
      "Epoch: 16 \tLoss: 1.177541\n",
      "Epoch: 17 \tLoss: 1.071287\n",
      "Epoch: 18 \tLoss: 0.968326\n",
      "Epoch: 19 \tLoss: 0.870047\n",
      "Epoch: 20 \tLoss: 0.779066\n",
      "Epoch: 21 \tLoss: 0.696493\n",
      "Epoch: 22 \tLoss: 0.621949\n",
      "Epoch: 23 \tLoss: 0.556199\n",
      "Epoch: 24 \tLoss: 0.497954\n",
      "Epoch: 25 \tLoss: 0.446877\n",
      "Epoch: 26 \tLoss: 0.402166\n",
      "Epoch: 27 \tLoss: 0.362779\n",
      "Epoch: 28 \tLoss: 0.328420\n",
      "Epoch: 29 \tLoss: 0.298610\n",
      "Epoch: 30 \tLoss: 0.272334\n",
      "Epoch: 31 \tLoss: 0.249419\n",
      "Epoch: 32 \tLoss: 0.229258\n",
      "Epoch: 33 \tLoss: 0.210928\n",
      "Epoch: 34 \tLoss: 0.195225\n",
      "Epoch: 35 \tLoss: 0.180726\n",
      "Epoch: 36 \tLoss: 0.168088\n",
      "Epoch: 37 \tLoss: 0.156785\n",
      "Epoch: 38 \tLoss: 0.146614\n",
      "Epoch: 39 \tLoss: 0.137427\n",
      "Epoch: 40 \tLoss: 0.129223\n",
      "Epoch: 41 \tLoss: 0.121758\n",
      "Epoch: 42 \tLoss: 0.115063\n",
      "Epoch: 43 \tLoss: 0.108698\n",
      "Epoch: 44 \tLoss: 0.103221\n",
      "Epoch: 45 \tLoss: 0.097883\n",
      "Epoch: 46 \tLoss: 0.093357\n",
      "Epoch: 47 \tLoss: 0.088884\n",
      "Epoch: 48 \tLoss: 0.084930\n",
      "Epoch: 49 \tLoss: 0.081296\n",
      "Epoch: 50 \tLoss: 0.077882\n",
      "Epoch: 51 \tLoss: 0.074670\n",
      "Epoch: 52 \tLoss: 0.071739\n",
      "Epoch: 53 \tLoss: 0.069147\n",
      "Epoch: 54 \tLoss: 0.066528\n",
      "Epoch: 55 \tLoss: 0.064199\n",
      "Epoch: 56 \tLoss: 0.062019\n",
      "Epoch: 57 \tLoss: 0.059995\n",
      "Epoch: 58 \tLoss: 0.058208\n",
      "Epoch: 59 \tLoss: 0.056498\n",
      "Epoch: 60 \tLoss: 0.054346\n",
      "Epoch: 61 \tLoss: 0.052972\n",
      "Epoch: 62 \tLoss: 0.051294\n",
      "Epoch: 63 \tLoss: 0.049966\n",
      "Epoch: 64 \tLoss: 0.048657\n",
      "Epoch: 65 \tLoss: 0.047476\n",
      "Epoch: 66 \tLoss: 0.046174\n",
      "Epoch: 67 \tLoss: 0.045184\n",
      "Epoch: 68 \tLoss: 0.044057\n",
      "Epoch: 69 \tLoss: 0.043039\n",
      "Epoch: 70 \tLoss: 0.042094\n",
      "Epoch: 71 \tLoss: 0.041512\n",
      "Epoch: 72 \tLoss: 0.040451\n",
      "Epoch: 73 \tLoss: 0.039531\n",
      "Epoch: 74 \tLoss: 0.038823\n",
      "Epoch: 75 \tLoss: 0.038016\n",
      "Epoch: 76 \tLoss: 0.037472\n",
      "Epoch: 77 \tLoss: 0.036825\n",
      "Epoch: 78 \tLoss: 0.036083\n",
      "Epoch: 79 \tLoss: 0.035639\n",
      "Epoch: 80 \tLoss: 0.034911\n",
      "Epoch: 81 \tLoss: 0.034342\n",
      "Epoch: 82 \tLoss: 0.033812\n",
      "Epoch: 83 \tLoss: 0.033421\n",
      "Epoch: 84 \tLoss: 0.032952\n",
      "Epoch: 85 \tLoss: 0.032493\n",
      "Epoch: 86 \tLoss: 0.031971\n",
      "Epoch: 87 \tLoss: 0.031797\n",
      "Epoch: 88 \tLoss: 0.031137\n",
      "Epoch: 89 \tLoss: 0.030986\n",
      "Epoch: 90 \tLoss: 0.030584\n",
      "Epoch: 91 \tLoss: 0.030627\n",
      "Epoch: 92 \tLoss: 0.029870\n",
      "Epoch: 93 \tLoss: 0.029545\n",
      "Epoch: 94 \tLoss: 0.029177\n",
      "Epoch: 95 \tLoss: 0.028987\n",
      "Epoch: 96 \tLoss: 0.028652\n",
      "Epoch: 97 \tLoss: 0.028537\n",
      "Epoch: 98 \tLoss: 0.028209\n",
      "Epoch: 99 \tLoss: 0.028094\n",
      "Epoch: 100 \tLoss: 0.028163\n",
      "Epoch: 101 \tLoss: 0.027353\n",
      "Epoch: 102 \tLoss: 0.027306\n",
      "Epoch: 103 \tLoss: 0.027010\n",
      "Epoch: 104 \tLoss: 0.026830\n",
      "Epoch: 105 \tLoss: 0.026657\n",
      "Epoch: 106 \tLoss: 0.026399\n",
      "Epoch: 107 \tLoss: 0.026242\n",
      "Epoch: 108 \tLoss: 0.026795\n",
      "Epoch: 109 \tLoss: 0.025996\n",
      "Epoch: 110 \tLoss: 0.025724\n",
      "Epoch: 111 \tLoss: 0.025673\n",
      "Epoch: 112 \tLoss: 0.025312\n",
      "Epoch: 113 \tLoss: 0.025462\n",
      "Epoch: 114 \tLoss: 0.025155\n",
      "Epoch: 115 \tLoss: 0.025858\n",
      "Epoch: 116 \tLoss: 0.025046\n",
      "Epoch: 117 \tLoss: 0.024884\n",
      "Epoch: 118 \tLoss: 0.024697\n",
      "Epoch: 119 \tLoss: 0.024529\n",
      "Epoch: 120 \tLoss: 0.024419\n",
      "Epoch: 121 \tLoss: 0.024414\n",
      "Epoch: 122 \tLoss: 0.024375\n",
      "Epoch: 123 \tLoss: 0.024317\n",
      "Epoch: 124 \tLoss: 0.024241\n",
      "Epoch: 125 \tLoss: 0.024004\n",
      "Epoch: 126 \tLoss: 0.023974\n",
      "Epoch: 127 \tLoss: 0.023897\n",
      "Epoch: 128 \tLoss: 0.023589\n",
      "Epoch: 129 \tLoss: 0.023857\n",
      "Epoch: 130 \tLoss: 0.023538\n",
      "Epoch: 131 \tLoss: 0.023632\n",
      "Epoch: 132 \tLoss: 0.023462\n",
      "Epoch: 133 \tLoss: 0.023360\n",
      "Epoch: 134 \tLoss: 0.023351\n",
      "Epoch: 135 \tLoss: 0.023386\n",
      "Epoch: 136 \tLoss: 0.023235\n",
      "Epoch: 137 \tLoss: 0.023118\n",
      "Epoch: 138 \tLoss: 0.023051\n",
      "Epoch: 139 \tLoss: 0.023341\n",
      "Epoch: 140 \tLoss: 0.023251\n",
      "Epoch: 141 \tLoss: 0.022917\n",
      "Epoch: 142 \tLoss: 0.022962\n",
      "Epoch: 143 \tLoss: 0.022975\n",
      "Epoch: 144 \tLoss: 0.022722\n",
      "Epoch: 145 \tLoss: 0.023293\n",
      "Epoch: 146 \tLoss: 0.022708\n",
      "Epoch: 147 \tLoss: 0.022480\n",
      "Epoch: 148 \tLoss: 0.022532\n",
      "Epoch: 149 \tLoss: 0.022444\n",
      "Epoch: 150 \tLoss: 0.022549\n",
      "Epoch: 151 \tLoss: 0.022368\n",
      "Epoch: 152 \tLoss: 0.022775\n",
      "Epoch: 153 \tLoss: 0.022311\n",
      "Epoch: 154 \tLoss: 0.022259\n",
      "Epoch: 155 \tLoss: 0.022247\n",
      "Epoch: 156 \tLoss: 0.022411\n",
      "Epoch: 157 \tLoss: 0.022212\n",
      "Epoch: 158 \tLoss: 0.022078\n",
      "Epoch: 159 \tLoss: 0.022093\n",
      "Epoch: 160 \tLoss: 0.021948\n",
      "Epoch: 161 \tLoss: 0.022043\n",
      "Epoch: 162 \tLoss: 0.022121\n",
      "Epoch: 163 \tLoss: 0.022021\n",
      "Epoch: 164 \tLoss: 0.021949\n",
      "Epoch: 165 \tLoss: 0.021867\n",
      "Epoch: 166 \tLoss: 0.022029\n",
      "Epoch: 167 \tLoss: 0.021866\n",
      "Epoch: 168 \tLoss: 0.022245\n",
      "Epoch: 169 \tLoss: 0.022343\n",
      "Epoch: 170 \tLoss: 0.021758\n",
      "Epoch: 171 \tLoss: 0.021912\n",
      "Epoch: 172 \tLoss: 0.021748\n",
      "Epoch: 173 \tLoss: 0.021651\n",
      "Epoch: 174 \tLoss: 0.022190\n",
      "Epoch: 175 \tLoss: 0.021755\n",
      "Epoch: 176 \tLoss: 0.021821\n",
      "Epoch: 177 \tLoss: 0.021754\n",
      "Epoch: 178 \tLoss: 0.021764\n",
      "Epoch: 179 \tLoss: 0.021645\n",
      "Epoch: 180 \tLoss: 0.021666\n",
      "Epoch: 181 \tLoss: 0.021930\n",
      "Epoch: 182 \tLoss: 0.021722\n",
      "Epoch: 183 \tLoss: 0.021929\n",
      "Epoch: 184 \tLoss: 0.021542\n",
      "Epoch: 185 \tLoss: 0.021525\n",
      "Epoch: 186 \tLoss: 0.021641\n",
      "Epoch: 187 \tLoss: 0.021499\n",
      "Epoch: 188 \tLoss: 0.021526\n",
      "Epoch: 189 \tLoss: 0.021516\n",
      "Epoch: 190 \tLoss: 0.022251\n",
      "Epoch: 191 \tLoss: 0.021408\n",
      "Epoch: 192 \tLoss: 0.021480\n",
      "Epoch: 193 \tLoss: 0.021452\n",
      "Epoch: 194 \tLoss: 0.021600\n",
      "Epoch: 195 \tLoss: 0.021437\n",
      "Epoch: 196 \tLoss: 0.021308\n",
      "Epoch: 197 \tLoss: 0.021373\n",
      "Epoch: 198 \tLoss: 0.021674\n",
      "Epoch: 199 \tLoss: 0.021537\n",
      "Epoch: 200 \tLoss: 0.021596\n",
      "Epoch: 201 \tLoss: 0.021268\n"
     ]
    }
   ],
   "source": [
    "e = 0\n",
    "max_epochs = 400\n",
    "is_converged = False\n",
    "previous_loss = 0\n",
    "losses = []\n",
    "\n",
    "# For each epoch\n",
    "while e < max_epochs and is_converged is not True:\n",
    "    \n",
    "    current_epoch_loss = 0\n",
    "    \n",
    "    # TODO: Get the batch for this epoch.\n",
    "    X_batches, y_batches = data_loader.get_batch(mode='train')  \n",
    "\n",
    "    for X_batch, y_batch in zip(X_batches, y_batches):\n",
    "        X_batch = X_batch.clone().detach().float()\n",
    "        y_batch = y_batch.clone().detach().long()\n",
    "        \n",
    "        # TODO: Empty the gradients of the network.\n",
    "        optimizer.zero_grad()\n",
    "        \n",
    "        # TODO: Forward propagation\n",
    "        scores, probabilities = network.forward(X_batch)\n",
    "        \n",
    "        # TODO: Compute the loss\n",
    "        loss = criterion(scores, y_batch)\n",
    "        \n",
    "        # TODO: Backward propagation\n",
    "        loss.backward()\n",
    "        \n",
    "        # TODO: Update parameters\n",
    "        optimizer.step()\n",
    "        \n",
    "        current_epoch_loss += loss.item()\n",
    "    \n",
    "    average_loss = current_epoch_loss / len(X_batch)\n",
    "    losses.append(average_loss)\n",
    "    \n",
    "    # Display the average loss per epoch\n",
    "    print('Epoch:', e + 1, '\\tLoss: {:.6f}'.format(average_loss))\n",
    "    \n",
    "    if abs(previous_loss - loss) < 0.00005:\n",
    "        is_converged = True\n",
    "    else:\n",
    "        previous_loss = loss\n",
    "        e += 1"
   ]
  },
  {
   "cell_type": "markdown",
   "metadata": {},
   "source": [
    "<span style=\"color:red;\">**Question 6-13:** How many epochs did the model train before convergence?</span>"
   ]
  },
  {
   "cell_type": "markdown",
   "metadata": {},
   "source": [
    "<span style=\"color:red;\">**Question 6-14:** What is the average loss at the last epoch? Limit to four decimal places.</span>"
   ]
  },
  {
   "cell_type": "markdown",
   "metadata": {},
   "source": [
    "## Try our trained network on the test data\n",
    "\n",
    "Set the network in test `eval` mode first, to avoid updating the weights."
   ]
  },
  {
   "cell_type": "code",
   "execution_count": 43,
   "metadata": {},
   "outputs": [
    {
     "data": {
      "text/plain": [
       "NeuralNetwork(\n",
       "  (layers): Sequential(\n",
       "    (0): Linear(in_features=2, out_features=5, bias=True)\n",
       "    (1): Sigmoid()\n",
       "    (2): Linear(in_features=5, out_features=10, bias=True)\n",
       "    (3): Sigmoid()\n",
       "    (4): Linear(in_features=10, out_features=3, bias=True)\n",
       "    (5): Softmax(dim=1)\n",
       "  )\n",
       ")"
      ]
     },
     "execution_count": 43,
     "metadata": {},
     "output_type": "execute_result"
    }
   ],
   "source": [
    "network.eval()"
   ]
  },
  {
   "cell_type": "markdown",
   "metadata": {},
   "source": [
    "Perform forward propagation on the test data. Assign the return values to variables `scores` and `probabilities`."
   ]
  },
  {
   "cell_type": "code",
   "execution_count": null,
   "metadata": {},
   "outputs": [],
   "source": [
    "# Write your code here\n",
    "with torch.no_grad():\n",
    "    scores, probabilities = network(X_test)\n",
    "    \n"
   ]
  },
  {
   "cell_type": "markdown",
   "metadata": {},
   "source": [
    "Now, let's get the prediction results on the test data to see if our model can handle unseen instances. Store the predicted labels in the variable `predictions`."
   ]
  },
  {
   "cell_type": "code",
   "execution_count": 47,
   "metadata": {},
   "outputs": [],
   "source": [
    "# Write your code here\n",
    "predictions = torch.argmax(probabilities, dim=1)  # Get the index of max probability\n"
   ]
  },
  {
   "cell_type": "code",
   "execution_count": 48,
   "metadata": {},
   "outputs": [
    {
     "name": "stdout",
     "output_type": "stream",
     "text": [
      "tensor([0, 0, 0, 0, 0, 0, 0, 0, 0, 0, 0, 0, 0, 0, 0, 0, 0, 0, 0, 0, 0, 0, 0, 0,\n",
      "        0, 0, 0, 0, 0, 0, 0, 0, 0, 0, 0, 0, 0, 0, 0, 0, 0, 0, 0, 0, 0, 0, 0, 0,\n",
      "        0, 0, 1, 1, 1, 1, 1, 1, 1, 1, 1, 1, 1, 1, 1, 1, 1, 1, 1, 1, 1, 1, 1, 1,\n",
      "        1, 1, 1, 1, 1, 1, 1, 1, 1, 1, 1, 1, 1, 1, 1, 1, 1, 1, 1, 1, 1, 1, 1, 1,\n",
      "        1, 1, 1, 1, 2, 2, 2, 2, 2, 2, 2, 2, 2, 2, 2, 2, 2, 2, 2, 2, 2, 2, 2, 2,\n",
      "        2, 2, 2, 2, 2, 2, 2, 2, 2, 2, 2, 2, 2, 2, 2, 2, 2, 2, 2, 2, 2, 2, 2, 2,\n",
      "        2, 2, 2, 2, 2, 2])\n"
     ]
    }
   ],
   "source": [
    "print(predictions)"
   ]
  },
  {
   "cell_type": "markdown",
   "metadata": {},
   "source": [
    "Compare the ground truth labels with the predicted labels. Store the total number of correct predictions in the variable `num_correct`."
   ]
  },
  {
   "cell_type": "code",
   "execution_count": null,
   "metadata": {},
   "outputs": [],
   "source": [
    "# Write your code here\n",
    "num_correct = (predictions == y_test).sum().item()\n"
   ]
  },
  {
   "cell_type": "code",
   "execution_count": 51,
   "metadata": {},
   "outputs": [
    {
     "name": "stdout",
     "output_type": "stream",
     "text": [
      "150\n"
     ]
    }
   ],
   "source": [
    "print(num_correct)"
   ]
  },
  {
   "cell_type": "markdown",
   "metadata": {},
   "source": [
    "Compute for the accuracy. Store the accuracy in the variable `accuracy`."
   ]
  },
  {
   "cell_type": "code",
   "execution_count": 52,
   "metadata": {},
   "outputs": [],
   "source": [
    "# Write your code here\n",
    "accuracy = num_correct / len(y_test)  # Compute accuracy\n"
   ]
  },
  {
   "cell_type": "code",
   "execution_count": 53,
   "metadata": {},
   "outputs": [
    {
     "name": "stdout",
     "output_type": "stream",
     "text": [
      "1.0000\n"
     ]
    }
   ],
   "source": [
    "print('{:.4f}'.format(accuracy))"
   ]
  },
  {
   "cell_type": "markdown",
   "metadata": {},
   "source": [
    "<span style=\"color:red;\">**Question 6-15:** What is the accuracy of the network when evaluated on the test set? Express your answer in a floating point number from 0 to 1. Limit to 4 decimal places.</span>"
   ]
  },
  {
   "cell_type": "markdown",
   "metadata": {},
   "source": [
    "Let's visualize the loss for each training epoch."
   ]
  },
  {
   "cell_type": "code",
   "execution_count": 54,
   "metadata": {},
   "outputs": [
    {
     "data": {
      "text/plain": [
       "Text(0.5, 1.0, 'Loss for each training epoch')"
      ]
     },
     "execution_count": 54,
     "metadata": {},
     "output_type": "execute_result"
    },
    {
     "data": {
      "image/png": "[encoded data removed]",
      "text/plain": [
       "<Figure size 800x800 with 1 Axes>"
      ]
     },
     "metadata": {},
     "output_type": "display_data"
    }
   ],
   "source": [
    "x_values = [i for i in range(len(losses))]\n",
    "y_values = losses\n",
    "\n",
    "plt.plot(x_values, y_values)\n",
    "plt.xlabel('Epochs')\n",
    "plt.ylabel('Loss')\n",
    "plt.title('Loss for each training epoch')"
   ]
  },
  {
   "cell_type": "markdown",
   "metadata": {},
   "source": [
    "<span style=\"color:green;\">**Question:** Around what epoch did our training converge, i.e., when there are minimal changes in the value of the loss?</span>"
   ]
  },
  {
   "cell_type": "markdown",
   "metadata": {},
   "source": [
    "# Iris Dataset\n",
    "We will use the Iris dataset as our dataset. Each instance represents an Iris flower using 4 distinct features:\n",
    "- `sepal_length` - length of the sepal in centimeters\n",
    "- `sepal_width` - width of the sepal in centimeters\n",
    "- `petal_length` - length of the petal in centimeters\n",
    "- `petal_width` - width of the petal in centimeters\n",
    "\n",
    "Iris flowers can be 3 divided into different classes, which are:\n",
    "- `Iris-setosa` - class `0`\n",
    "- `Iris-versicolor` - class `1`\n",
    "- `Iris-virginica` - class `2`"
   ]
  },
  {
   "cell_type": "markdown",
   "metadata": {},
   "source": [
    "Let's load `Iris.csv`."
   ]
  },
  {
   "cell_type": "code",
   "execution_count": 55,
   "metadata": {},
   "outputs": [
    {
     "name": "stdout",
     "output_type": "stream",
     "text": [
      "Training data shape: (150, 4)\n",
      "Ground truth values shape: (150,)\n"
     ]
    }
   ],
   "source": [
    "classes = {\n",
    "    'Iris-setosa': 0,\n",
    "    'Iris-versicolor': 1,\n",
    "    'Iris-virginica': 2\n",
    "}\n",
    "\n",
    "with open('Iris.csv', 'r') as csv_file:\n",
    "    raw_data = csv.reader(csv_file)\n",
    "    X_iris = np.empty((0, 4), float)\n",
    "    y_iris = np.empty((0, 1), int)\n",
    "    for row in raw_data:\n",
    "        X_iris = np.vstack([X_iris, np.array([float(row[0]),     # column for sepal_length\n",
    "                                              float(row[1]),     # column for sepal_width\n",
    "                                              float(row[2]),     # column for petal_length\n",
    "                                              float(row[3])])])  # column for petal_width\n",
    "        \n",
    "        y_iris = np.append(y_iris, np.array([classes[row[4]]]))  # column for class\n",
    "\n",
    "# This transforms the vector of length N into a matrix with shape (N, 1)\n",
    "y_house = np.expand_dims(y_iris, 1) \n",
    "\n",
    "print('Training data shape:', X_iris.shape)\n",
    "print('Ground truth values shape:', y_iris.shape)"
   ]
  },
  {
   "cell_type": "markdown",
   "metadata": {},
   "source": [
    "Let's get the number of instances per class."
   ]
  },
  {
   "cell_type": "code",
   "execution_count": 56,
   "metadata": {},
   "outputs": [
    {
     "name": "stdout",
     "output_type": "stream",
     "text": [
      "Number of class 0: 50\n",
      "Number of class 1: 50\n",
      "Number of class 2: 50\n"
     ]
    }
   ],
   "source": [
    "X_iris_0 = X_iris[y_iris == 0]\n",
    "X_iris_1 = X_iris[y_iris == 1]\n",
    "X_iris_2 = X_iris[y_iris == 2]\n",
    "\n",
    "print('Number of class 0:', len(X_iris_0))\n",
    "print('Number of class 1:', len(X_iris_1))\n",
    "print('Number of class 2:', len(X_iris_2))"
   ]
  },
  {
   "cell_type": "markdown",
   "metadata": {},
   "source": [
    "There are 50 instances for each class."
   ]
  },
  {
   "cell_type": "markdown",
   "metadata": {},
   "source": [
    "Let's divide the dataset into train and test set. The test set will contain 10 instances for each class."
   ]
  },
  {
   "cell_type": "code",
   "execution_count": 57,
   "metadata": {},
   "outputs": [
    {
     "name": "stdout",
     "output_type": "stream",
     "text": [
      "(30, 4)\n",
      "(30,)\n"
     ]
    }
   ],
   "source": [
    "np.random.seed(1)\n",
    "\n",
    "# Select 10 `class 0` instances\n",
    "selected_0 = np.random.choice(np.arange(len(X_iris_0)),\n",
    "                              size=10,\n",
    "                              replace=False)\n",
    "\n",
    "# Select 10 `class 1` instances\n",
    "selected_1 = np.random.choice(np.arange(len(X_iris_1)),\n",
    "                              size=10,\n",
    "                              replace=False)\n",
    "\n",
    "# Select 10 `class 2` instances\n",
    "selected_2 = np.random.choice(np.arange(len(X_iris_2)),\n",
    "                              size=10,\n",
    "                              replace=False)\n",
    "\n",
    "# Form the test set\n",
    "X_test = np.concatenate((X_iris_0[selected_0],\n",
    "                         X_iris_1[selected_1],\n",
    "                         X_iris_2[selected_2]))\n",
    "y_test = np.concatenate((np.array([0 for _ in range(10)]),\n",
    "                         np.array([1 for _ in range(10)]),\n",
    "                         np.array([2 for _ in range(10)])))\n",
    "\n",
    "print(X_test.shape)\n",
    "print(y_test.shape)"
   ]
  },
  {
   "cell_type": "markdown",
   "metadata": {},
   "source": [
    "The remaining 120 instances will be a part of the train set, where each class has 40 instances."
   ]
  },
  {
   "cell_type": "code",
   "execution_count": 58,
   "metadata": {},
   "outputs": [
    {
     "name": "stdout",
     "output_type": "stream",
     "text": [
      "(120, 4)\n",
      "(120,)\n"
     ]
    }
   ],
   "source": [
    "X_train = np.concatenate((np.delete(X_iris_0, selected_0, 0),\n",
    "                          np.delete(X_iris_1, selected_1, 0),\n",
    "                          np.delete(X_iris_2, selected_2, 0)))\n",
    "y_train = np.concatenate((np.array([0 for _ in range(40)]),\n",
    "                          np.array([1 for _ in range(40)]),\n",
    "                          np.array([2 for _ in range(40)])))\n",
    "\n",
    "print(X_train.shape)\n",
    "print(y_train.shape)"
   ]
  },
  {
   "cell_type": "markdown",
   "metadata": {},
   "source": [
    "Convert the `np.ndarray` arrays to `torch.Tensor`. We use `torch.Tensor` in PyTorch."
   ]
  },
  {
   "cell_type": "markdown",
   "metadata": {},
   "source": [
    "Convert the variable `X_train` to the datatype `torch.Tensor` and assign the return value to variable `X_train`."
   ]
  },
  {
   "cell_type": "code",
   "execution_count": 78,
   "metadata": {},
   "outputs": [
    {
     "name": "stderr",
     "output_type": "stream",
     "text": [
      "C:\\Users\\kobeq\\AppData\\Local\\Temp\\ipykernel_1724\\2902836516.py:2: UserWarning: To copy construct from a tensor, it is recommended to use sourceTensor.clone().detach() or sourceTensor.clone().detach().requires_grad_(True), rather than torch.tensor(sourceTensor).\n",
      "  X_train = torch.tensor(X_train)\n"
     ]
    }
   ],
   "source": [
    "# Write your code here\n",
    "X_train = torch.tensor(X_train)"
   ]
  },
  {
   "cell_type": "markdown",
   "metadata": {},
   "source": [
    "Convert the variable `y_train` to the datatype `torch.Tensor` and assign the return value to variable `y_train`."
   ]
  },
  {
   "cell_type": "code",
   "execution_count": 100,
   "metadata": {},
   "outputs": [
    {
     "name": "stderr",
     "output_type": "stream",
     "text": [
      "C:\\Users\\kobeq\\AppData\\Local\\Temp\\ipykernel_1724\\4075887742.py:2: UserWarning: To copy construct from a tensor, it is recommended to use sourceTensor.clone().detach() or sourceTensor.clone().detach().requires_grad_(True), rather than torch.tensor(sourceTensor).\n",
      "  y_train = torch.tensor(y_train, dtype=torch.long)\n"
     ]
    }
   ],
   "source": [
    "# Write your code here\n",
    "y_train = torch.tensor(y_train, dtype=torch.long)"
   ]
  },
  {
   "cell_type": "markdown",
   "metadata": {},
   "source": [
    "Convert the variable `X_test` to the datatype `torch.Tensor` and assign the return value to variable `X_test`."
   ]
  },
  {
   "cell_type": "code",
   "execution_count": 101,
   "metadata": {},
   "outputs": [],
   "source": [
    "# Write your code here\n",
    "X_test = torch.Tensor(X_test)"
   ]
  },
  {
   "cell_type": "markdown",
   "metadata": {},
   "source": [
    "Convert the variable `y_test` to the datatype `torch.Tensor` and assign the return value to variable `y_test`."
   ]
  },
  {
   "cell_type": "code",
   "execution_count": 103,
   "metadata": {},
   "outputs": [
    {
     "name": "stderr",
     "output_type": "stream",
     "text": [
      "C:\\Users\\kobeq\\AppData\\Local\\Temp\\ipykernel_1724\\3571691089.py:2: UserWarning: To copy construct from a tensor, it is recommended to use sourceTensor.clone().detach() or sourceTensor.clone().detach().requires_grad_(True), rather than torch.tensor(sourceTensor).\n",
      "  y_test = torch.tensor(y_test, dtype=torch.long)\n"
     ]
    }
   ],
   "source": [
    "# Write your code here\n",
    "y_test = torch.tensor(y_test, dtype=torch.long)"
   ]
  },
  {
   "cell_type": "markdown",
   "metadata": {},
   "source": [
    "## Setting up the training pipeline\n",
    "\n",
    "Set-up the following:\n",
    "- Network\n",
    "- Optimizer\n",
    "- Loss function\n",
    "- Data loader"
   ]
  },
  {
   "cell_type": "markdown",
   "metadata": {},
   "source": [
    "Instantiate a `NeuralNetwork` object. Set the following parameters:\n",
    "- `list_hidden` = (5, 10)\n",
    "- `activation` = `sigmoid`\n",
    "\n",
    "Here, we are creating a Neural Network with two hidden layers, where there are 5 units in the first layer and 10 units in the second layer.\n",
    "\n",
    "Set the other parameters according to the Iris dataset."
   ]
  },
  {
   "cell_type": "code",
   "execution_count": 95,
   "metadata": {
    "scrolled": true
   },
   "outputs": [],
   "source": [
    "# Write your code here\n",
    "list_hidden = (5, 10)\n",
    "activation = \"sigmoid\"\n",
    "input_size = X_train.shape[1]\n",
    "num_classes = len(torch.unique(y_train))\n",
    "network = NeuralNetwork(input_size, num_classes, list_hidden, activation)"
   ]
  },
  {
   "cell_type": "markdown",
   "metadata": {},
   "source": [
    "Create the network and initialize the weights."
   ]
  },
  {
   "cell_type": "code",
   "execution_count": 104,
   "metadata": {},
   "outputs": [
    {
     "name": "stdout",
     "output_type": "stream",
     "text": [
      "List Hidden: (5, 10)\n"
     ]
    }
   ],
   "source": [
    "# Write your code here\n",
    "network.create_network()\n",
    "network.init_weights()"
   ]
  },
  {
   "cell_type": "markdown",
   "metadata": {},
   "source": [
    "Display the structure of the neural network."
   ]
  },
  {
   "cell_type": "code",
   "execution_count": 105,
   "metadata": {},
   "outputs": [
    {
     "name": "stdout",
     "output_type": "stream",
     "text": [
      "NeuralNetwork(\n",
      "  (layers): Sequential(\n",
      "    (0): Linear(in_features=4, out_features=5, bias=True)\n",
      "    (1): Sigmoid()\n",
      "    (2): Linear(in_features=5, out_features=10, bias=True)\n",
      "    (3): Sigmoid()\n",
      "    (4): Linear(in_features=10, out_features=3, bias=True)\n",
      "    (5): Softmax(dim=1)\n",
      "  )\n",
      ")\n"
     ]
    }
   ],
   "source": [
    "# Write your code here\n",
    "print(network)"
   ]
  },
  {
   "cell_type": "markdown",
   "metadata": {},
   "source": [
    "<span style=\"color:red;\">**Question 6-16:** Give the values of the `in_features` and `out_features of the first `nn.Linear` module (Index 0).</span>"
   ]
  },
  {
   "cell_type": "markdown",
   "metadata": {},
   "source": [
    "<span style=\"color:red;\">**Question 6-17:** Give the values of the `in_features` and `out_features` of the last `nn.Linear` module (Index 4).</span>"
   ]
  },
  {
   "cell_type": "markdown",
   "metadata": {},
   "source": [
    "We will use Adam as our optimizer.\n",
    "\n",
    "Instantiate an `optim.Adam` object. Set the following parameters:\n",
    "- `params` = Set this to the parameters of your network\n",
    "- `lr` = `0.001`"
   ]
  },
  {
   "cell_type": "code",
   "execution_count": 106,
   "metadata": {},
   "outputs": [],
   "source": [
    "# Write your code here\n",
    "optimizer = optim.Adam(network.parameters(), lr=0.001)"
   ]
  },
  {
   "cell_type": "markdown",
   "metadata": {},
   "source": [
    "Instantiate a `nn.CrossEntropy()` object. Do not change any default values set as parameter. Assign it to the variable `criterion`."
   ]
  },
  {
   "cell_type": "code",
   "execution_count": 107,
   "metadata": {},
   "outputs": [],
   "source": [
    "# Write your code here\n",
    "criterion = nn.CrossEntropyLoss()"
   ]
  },
  {
   "cell_type": "markdown",
   "metadata": {},
   "source": [
    "We will train the model using mini-batch gradient descent. \n",
    "\n",
    "Instantiate a `DataLoader` object. Pass the `X` and `y` of the train set and `32` as our `batch_size`. Assign it to the variable `data_loader`."
   ]
  },
  {
   "cell_type": "code",
   "execution_count": 108,
   "metadata": {},
   "outputs": [],
   "source": [
    "# Write your code here\n",
    "data_loader = DataLoader(X_train, y_train, batch_size=32)"
   ]
  },
  {
   "cell_type": "markdown",
   "metadata": {},
   "source": [
    "## Training the network\n",
    "\n",
    "Train your network. Complete the code below."
   ]
  },
  {
   "cell_type": "code",
   "execution_count": 113,
   "metadata": {},
   "outputs": [
    {
     "name": "stdout",
     "output_type": "stream",
     "text": [
      "Epoch: 1 \tLoss: 0.055520\n",
      "Epoch: 2 \tLoss: 0.055270\n",
      "Epoch: 3 \tLoss: 0.055012\n",
      "Epoch: 4 \tLoss: 0.054319\n",
      "Epoch: 5 \tLoss: 0.054320\n",
      "Epoch: 6 \tLoss: 0.053932\n",
      "Epoch: 7 \tLoss: 0.053743\n",
      "Epoch: 8 \tLoss: 0.052922\n",
      "Epoch: 9 \tLoss: 0.052801\n",
      "Epoch: 10 \tLoss: 0.053476\n",
      "Epoch: 11 \tLoss: 0.052126\n",
      "Epoch: 12 \tLoss: 0.053127\n",
      "Epoch: 13 \tLoss: 0.053094\n",
      "Epoch: 14 \tLoss: 0.052865\n",
      "Epoch: 15 \tLoss: 0.051856\n",
      "Epoch: 16 \tLoss: 0.052017\n",
      "Epoch: 17 \tLoss: 0.051525\n",
      "Epoch: 18 \tLoss: 0.051630\n",
      "Epoch: 19 \tLoss: 0.050747\n",
      "Epoch: 20 \tLoss: 0.050672\n",
      "Epoch: 21 \tLoss: 0.051073\n",
      "Epoch: 22 \tLoss: 0.050270\n",
      "Epoch: 23 \tLoss: 0.050339\n",
      "Epoch: 24 \tLoss: 0.049822\n",
      "Epoch: 25 \tLoss: 0.050296\n",
      "Epoch: 26 \tLoss: 0.049769\n",
      "Epoch: 27 \tLoss: 0.049230\n",
      "Epoch: 28 \tLoss: 0.049213\n",
      "Epoch: 29 \tLoss: 0.048132\n",
      "Epoch: 30 \tLoss: 0.048369\n",
      "Epoch: 31 \tLoss: 0.048257\n",
      "Epoch: 32 \tLoss: 0.048794\n",
      "Epoch: 33 \tLoss: 0.048211\n",
      "Epoch: 34 \tLoss: 0.048106\n",
      "Epoch: 35 \tLoss: 0.047582\n",
      "Epoch: 36 \tLoss: 0.047557\n",
      "Epoch: 37 \tLoss: 0.047068\n",
      "Epoch: 38 \tLoss: 0.047047\n",
      "Epoch: 39 \tLoss: 0.047094\n",
      "Epoch: 40 \tLoss: 0.046822\n",
      "Epoch: 41 \tLoss: 0.046921\n",
      "Epoch: 42 \tLoss: 0.046105\n",
      "Epoch: 43 \tLoss: 0.046259\n",
      "Epoch: 44 \tLoss: 0.045640\n",
      "Epoch: 45 \tLoss: 0.045286\n",
      "Epoch: 46 \tLoss: 0.045072\n",
      "Epoch: 47 \tLoss: 0.045000\n",
      "Epoch: 48 \tLoss: 0.044567\n",
      "Epoch: 49 \tLoss: 0.044577\n",
      "Epoch: 50 \tLoss: 0.044410\n",
      "Epoch: 51 \tLoss: 0.043971\n",
      "Epoch: 52 \tLoss: 0.043738\n",
      "Epoch: 53 \tLoss: 0.043675\n",
      "Epoch: 54 \tLoss: 0.043630\n",
      "Epoch: 55 \tLoss: 0.043503\n",
      "Epoch: 56 \tLoss: 0.043671\n",
      "Epoch: 57 \tLoss: 0.043008\n",
      "Epoch: 58 \tLoss: 0.043657\n",
      "Epoch: 59 \tLoss: 0.043048\n",
      "Epoch: 60 \tLoss: 0.043087\n",
      "Epoch: 61 \tLoss: 0.042788\n",
      "Epoch: 62 \tLoss: 0.042302\n",
      "Epoch: 63 \tLoss: 0.042355\n",
      "Epoch: 64 \tLoss: 0.041610\n",
      "Epoch: 65 \tLoss: 0.041958\n",
      "Epoch: 66 \tLoss: 0.041936\n",
      "Epoch: 67 \tLoss: 0.041424\n",
      "Epoch: 68 \tLoss: 0.041593\n",
      "Epoch: 69 \tLoss: 0.041560\n",
      "Epoch: 70 \tLoss: 0.040750\n",
      "Epoch: 71 \tLoss: 0.041269\n",
      "Epoch: 72 \tLoss: 0.040478\n",
      "Epoch: 73 \tLoss: 0.040195\n",
      "Epoch: 74 \tLoss: 0.040460\n",
      "Epoch: 75 \tLoss: 0.040000\n",
      "Epoch: 76 \tLoss: 0.040852\n",
      "Epoch: 77 \tLoss: 0.040461\n",
      "Epoch: 78 \tLoss: 0.040100\n",
      "Epoch: 79 \tLoss: 0.039315\n",
      "Epoch: 80 \tLoss: 0.039250\n",
      "Epoch: 81 \tLoss: 0.038859\n",
      "Epoch: 82 \tLoss: 0.039513\n",
      "Epoch: 83 \tLoss: 0.039311\n",
      "Epoch: 84 \tLoss: 0.038504\n",
      "Epoch: 85 \tLoss: 0.038438\n",
      "Epoch: 86 \tLoss: 0.037949\n",
      "Epoch: 87 \tLoss: 0.038038\n",
      "Epoch: 88 \tLoss: 0.037813\n",
      "Epoch: 89 \tLoss: 0.038053\n",
      "Epoch: 90 \tLoss: 0.037722\n",
      "Epoch: 91 \tLoss: 0.037220\n",
      "Epoch: 92 \tLoss: 0.037599\n",
      "Epoch: 93 \tLoss: 0.036844\n",
      "Epoch: 94 \tLoss: 0.037054\n",
      "Epoch: 95 \tLoss: 0.036924\n",
      "Epoch: 96 \tLoss: 0.036689\n",
      "Epoch: 97 \tLoss: 0.036673\n",
      "Epoch: 98 \tLoss: 0.036389\n",
      "Epoch: 99 \tLoss: 0.036535\n",
      "Epoch: 100 \tLoss: 0.036085\n",
      "Epoch: 101 \tLoss: 0.036456\n",
      "Epoch: 102 \tLoss: 0.035920\n",
      "Epoch: 103 \tLoss: 0.035936\n",
      "Epoch: 104 \tLoss: 0.035371\n",
      "Epoch: 105 \tLoss: 0.035532\n",
      "Epoch: 106 \tLoss: 0.035285\n",
      "Epoch: 107 \tLoss: 0.035262\n",
      "Epoch: 108 \tLoss: 0.035014\n",
      "Epoch: 109 \tLoss: 0.034947\n",
      "Epoch: 110 \tLoss: 0.034988\n",
      "Epoch: 111 \tLoss: 0.034715\n",
      "Epoch: 112 \tLoss: 0.034230\n",
      "Epoch: 113 \tLoss: 0.034218\n",
      "Epoch: 114 \tLoss: 0.034157\n",
      "Epoch: 115 \tLoss: 0.033805\n",
      "Epoch: 116 \tLoss: 0.034198\n",
      "Epoch: 117 \tLoss: 0.034131\n",
      "Epoch: 118 \tLoss: 0.033458\n",
      "Epoch: 119 \tLoss: 0.033173\n",
      "Epoch: 120 \tLoss: 0.033099\n",
      "Epoch: 121 \tLoss: 0.033286\n",
      "Epoch: 122 \tLoss: 0.033068\n",
      "Epoch: 123 \tLoss: 0.033900\n",
      "Epoch: 124 \tLoss: 0.032989\n",
      "Epoch: 125 \tLoss: 0.033039\n",
      "Epoch: 126 \tLoss: 0.033067\n",
      "Epoch: 127 \tLoss: 0.032332\n",
      "Epoch: 128 \tLoss: 0.032024\n",
      "Epoch: 129 \tLoss: 0.032167\n",
      "Epoch: 130 \tLoss: 0.032311\n",
      "Epoch: 131 \tLoss: 0.032495\n",
      "Epoch: 132 \tLoss: 0.032136\n",
      "Epoch: 133 \tLoss: 0.031919\n",
      "Epoch: 134 \tLoss: 0.031404\n",
      "Epoch: 135 \tLoss: 0.031731\n",
      "Epoch: 136 \tLoss: 0.031693\n",
      "Epoch: 137 \tLoss: 0.032007\n",
      "Epoch: 138 \tLoss: 0.031389\n",
      "Epoch: 139 \tLoss: 0.030906\n",
      "Epoch: 140 \tLoss: 0.030521\n",
      "Epoch: 141 \tLoss: 0.031475\n",
      "Epoch: 142 \tLoss: 0.030706\n",
      "Epoch: 143 \tLoss: 0.030935\n",
      "Epoch: 144 \tLoss: 0.030737\n",
      "Epoch: 145 \tLoss: 0.030794\n",
      "Epoch: 146 \tLoss: 0.030026\n",
      "Epoch: 147 \tLoss: 0.030214\n",
      "Epoch: 148 \tLoss: 0.030050\n",
      "Epoch: 149 \tLoss: 0.029928\n"
     ]
    }
   ],
   "source": [
    "e = 0\n",
    "max_epochs = 300\n",
    "is_converged = False\n",
    "previous_loss = 0\n",
    "losses = []\n",
    "\n",
    "# For each epoch\n",
    "while e < max_epochs and is_converged is not True:\n",
    "    \n",
    "    current_epoch_loss = 0\n",
    "    \n",
    "    # TODO: Get the batch for this epoch.\n",
    "    X_batches, y_batches = data_loader.get_batch(mode='train')  \n",
    "\n",
    "    for X_batch, y_batch in zip(X_batches, y_batches):\n",
    "        X_batch = X_batch.clone().detach().float()\n",
    "        y_batch = y_batch.clone().detach().long()\n",
    "        \n",
    "        # TODO: Empty the gradients of the network.\n",
    "        optimizer.zero_grad()\n",
    "        \n",
    "        # TODO: Forward propagation\n",
    "        scores, probabilities = network.forward(X_batch)\n",
    "        \n",
    "        # TODO: Compute the loss\n",
    "        loss = criterion(scores, y_batch)\n",
    "        \n",
    "        # TODO: Backward propagation\n",
    "        loss.backward()\n",
    "        \n",
    "        # TODO: Update parameters\n",
    "        optimizer.step()\n",
    "        \n",
    "        current_epoch_loss += loss.item()\n",
    "    \n",
    "    average_loss = current_epoch_loss / len(X_batch)\n",
    "    losses.append(average_loss)\n",
    "    \n",
    "    # Display the average loss per epoch\n",
    "    print('Epoch:', e + 1, '\\tLoss: {:.6f}'.format(average_loss))\n",
    "    \n",
    "    if abs(previous_loss - loss) < 0.00005:\n",
    "        is_converged = True\n",
    "    else:\n",
    "        previous_loss = loss\n",
    "        e += 1"
   ]
  },
  {
   "cell_type": "markdown",
   "metadata": {},
   "source": [
    "## Try our trained network on the test data\n",
    "\n",
    "Set the network in test `eval` mode first, to avoid updating the weights."
   ]
  },
  {
   "cell_type": "code",
   "execution_count": 114,
   "metadata": {},
   "outputs": [
    {
     "data": {
      "text/plain": [
       "NeuralNetwork(\n",
       "  (layers): Sequential(\n",
       "    (0): Linear(in_features=4, out_features=5, bias=True)\n",
       "    (1): Sigmoid()\n",
       "    (2): Linear(in_features=5, out_features=10, bias=True)\n",
       "    (3): Sigmoid()\n",
       "    (4): Linear(in_features=10, out_features=3, bias=True)\n",
       "    (5): Softmax(dim=1)\n",
       "  )\n",
       ")"
      ]
     },
     "execution_count": 114,
     "metadata": {},
     "output_type": "execute_result"
    }
   ],
   "source": [
    "network.eval()"
   ]
  },
  {
   "cell_type": "markdown",
   "metadata": {},
   "source": [
    "Perform forward propagation on the test data. Assign the return values to variables `scores` and `probabilities`."
   ]
  },
  {
   "cell_type": "code",
   "execution_count": 116,
   "metadata": {},
   "outputs": [],
   "source": [
    "# Write your code here\n",
    "scores, probabilities = network.forward(X_test)"
   ]
  },
  {
   "cell_type": "markdown",
   "metadata": {},
   "source": [
    "Now, let's get the prediction results on the test data to see if our model can handle unseen instances. Store the predicted labels in the variable `predictions`."
   ]
  },
  {
   "cell_type": "code",
   "execution_count": 117,
   "metadata": {},
   "outputs": [],
   "source": [
    "# Write your code here\n",
    "predictions = torch.argmax(probabilities, dim=1)"
   ]
  },
  {
   "cell_type": "code",
   "execution_count": 118,
   "metadata": {},
   "outputs": [
    {
     "name": "stdout",
     "output_type": "stream",
     "text": [
      "tensor([0, 0, 0, 0, 0, 0, 0, 0, 0, 0, 1, 1, 1, 1, 1, 2, 1, 1, 1, 1, 2, 2, 2, 2,\n",
      "        2, 2, 2, 2, 2, 2])\n"
     ]
    }
   ],
   "source": [
    "print(predictions)"
   ]
  },
  {
   "cell_type": "markdown",
   "metadata": {},
   "source": [
    "Compare the ground truth labels with the predicted labels. Store the total number of correct predictions in the variable `num_correct`."
   ]
  },
  {
   "cell_type": "code",
   "execution_count": 119,
   "metadata": {},
   "outputs": [],
   "source": [
    "# Write your code here\n",
    "num_correct = torch.sum(predictions == y_test.long()).item()"
   ]
  },
  {
   "cell_type": "code",
   "execution_count": 120,
   "metadata": {},
   "outputs": [
    {
     "name": "stdout",
     "output_type": "stream",
     "text": [
      "29\n"
     ]
    }
   ],
   "source": [
    "print(num_correct)"
   ]
  },
  {
   "cell_type": "markdown",
   "metadata": {},
   "source": [
    "Compute for the accuracy. Store the accuracy in the variable `accuracy`."
   ]
  },
  {
   "cell_type": "code",
   "execution_count": 121,
   "metadata": {},
   "outputs": [],
   "source": [
    "# Write your code here\n",
    "accuracy = num_correct / len(y_test)"
   ]
  },
  {
   "cell_type": "code",
   "execution_count": 122,
   "metadata": {},
   "outputs": [
    {
     "name": "stdout",
     "output_type": "stream",
     "text": [
      "0.9667\n"
     ]
    }
   ],
   "source": [
    "print('{:.4f}'.format(accuracy))"
   ]
  },
  {
   "cell_type": "markdown",
   "metadata": {},
   "source": [
    "<span style=\"color:red;\">**Question 6-18:** What is the accuracy of the network when evaluated on the test set? Express your answer in a floating point number from 0 to 1. Limit to 4 decimal places.</span>"
   ]
  },
  {
   "cell_type": "markdown",
   "metadata": {},
   "source": [
    "### <center>fin</center>"
   ]
  },
  {
   "cell_type": "markdown",
   "metadata": {},
   "source": [
    "\n",
    "<!-- DO NOT MODIFY OR DELETE THIS -->\n",
    "<sup>made/compiled by daniel stanley tan & courtney anne ngo 🐰 & thomas james tiam-lee</sup> <br>\n",
    "<sup>for comments, corrections, suggestions, please email:</sup><sup> danieltan07@gmail.com & courtneyngo@gmail.com & thomasjamestiamlee@gmail.com</sup><br>\n",
    "<sup>please cc your instructor, too</sup>\n",
    "<!-- DO NOT MODIFY OR DELETE THIS -->"
   ]
  }
 ],
 "metadata": {
  "kernelspec": {
   "display_name": "Python 3",
   "language": "python",
   "name": "python3"
  },
  "language_info": {
   "codemirror_mode": {
    "name": "ipython",
    "version": 3
   },
   "file_extension": ".py",
   "mimetype": "text/x-python",
   "name": "python",
   "nbconvert_exporter": "python",
   "pygments_lexer": "ipython3",
   "version": "3.13.0"
  }
 },
 "nbformat": 4,
 "nbformat_minor": 4
}
